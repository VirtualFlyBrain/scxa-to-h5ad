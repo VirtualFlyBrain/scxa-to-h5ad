{
 "cells": [
  {
   "cell_type": "markdown",
   "id": "37eff1c8",
   "metadata": {},
   "source": [
    "# SCXA to H5AD conversion"
   ]
  },
  {
   "cell_type": "markdown",
   "id": "932ef836",
   "metadata": {},
   "source": [
    "Experiments fo convert single cell expression atlas files (https://www.ebi.ac.uk/gxa/sc/experiments/E-CURD-134/downloads) to AnnData format."
   ]
  },
  {
   "cell_type": "code",
   "execution_count": 13,
   "id": "fd651f3f",
   "metadata": {},
   "outputs": [],
   "source": [
    "## IMPORT depedencies \n",
    "import os\n",
    "import scanpy as sc\n",
    "import anndata as ad\n",
    "\n",
    "import urllib.request as request\n",
    "import zipfile"
   ]
  },
  {
   "cell_type": "markdown",
   "id": "afa08158",
   "metadata": {},
   "source": [
    "Download and prepare SCXA data. Download operation may take some time (file size is approx. 137.5 MB).\n",
    "\n",
    "You can manually download and copy E-CURD-134-normalised-files.zip to project root folder to speed-up the process."
   ]
  },
  {
   "cell_type": "code",
   "execution_count": 16,
   "id": "89fc05f4",
   "metadata": {},
   "outputs": [
    {
     "name": "stdout",
     "output_type": "stream",
     "text": [
      "Experiment data is ready.\n"
     ]
    }
   ],
   "source": [
    "if not os.path.exists(os.path.join(os.getcwd(), \"E-CURD-134-normalised-files.zip\")):\n",
    "    # Download\n",
    "    request.urlretrieve(\"https://www.ebi.ac.uk/gxa/sc/experiment/E-CURD-134/download/zip?fileType=normalised&accessKey=\", \"E-CURD-134-normalised-files.zip\")\n",
    "\n",
    "if not os.path.exists(os.path.join(os.getcwd(), \"downloads/matrix.mtx\")):\n",
    "    # Unzip\n",
    "    with zipfile.ZipFile(\"E-CURD-134-normalised-files.zip\", 'r') as zip_ref:\n",
    "        zip_ref.extractall(os.path.join(os.getcwd(), \"downloads/\"))\n",
    "    # rename files\n",
    "    os.rename(os.path.join(os.getcwd(), \"downloads/E-CURD-134.aggregated_filtered_normalised_counts.mtx\"), os.path.join(os.getcwd(), \"downloads/matrix.mtx\"))\n",
    "    os.rename(os.path.join(os.getcwd(), \"downloads/E-CURD-134.aggregated_filtered_normalised_counts.mtx_cols\"), os.path.join(os.getcwd(), \"downloads/barcodes.tsv\"))\n",
    "    os.rename(os.path.join(os.getcwd(), \"downloads/E-CURD-134.aggregated_filtered_normalised_counts.mtx_rows\"), os.path.join(os.getcwd(), \"downloads/genes.tsv\"))\n",
    "\n",
    "print('Experiment data is ready.')"
   ]
  },
  {
   "cell_type": "code",
   "execution_count": null,
   "id": "cd16a01f",
   "metadata": {},
   "outputs": [],
   "source": [
    "ann_data = sc.read_10x_mtx('downloads/', var_names='gene_ids')\n",
    "ann_data.obs.head(4)"
   ]
  },
  {
   "cell_type": "code",
   "execution_count": 6,
   "id": "e3e5fca9",
   "metadata": {
    "scrolled": false
   },
   "outputs": [
    {
     "data": {
      "text/html": [
       "<div>\n",
       "<style scoped>\n",
       "    .dataframe tbody tr th:only-of-type {\n",
       "        vertical-align: middle;\n",
       "    }\n",
       "\n",
       "    .dataframe tbody tr th {\n",
       "        vertical-align: top;\n",
       "    }\n",
       "\n",
       "    .dataframe thead th {\n",
       "        text-align: right;\n",
       "    }\n",
       "</style>\n",
       "<table border=\"1\" class=\"dataframe\">\n",
       "  <thead>\n",
       "    <tr style=\"text-align: right;\">\n",
       "      <th></th>\n",
       "    </tr>\n",
       "  </thead>\n",
       "  <tbody>\n",
       "    <tr>\n",
       "      <th>SAMN13703199-AAACCTGAGCAGGTCA</th>\n",
       "    </tr>\n",
       "    <tr>\n",
       "      <th>SAMN13703199-AAACCTGAGCTTCGCG</th>\n",
       "    </tr>\n",
       "    <tr>\n",
       "      <th>SAMN13703199-AAACCTGAGGCTATCT</th>\n",
       "    </tr>\n",
       "    <tr>\n",
       "      <th>SAMN13703199-AAACCTGAGGTGCTAG</th>\n",
       "    </tr>\n",
       "  </tbody>\n",
       "</table>\n",
       "</div>"
      ],
      "text/plain": [
       "Empty DataFrame\n",
       "Columns: []\n",
       "Index: [SAMN13703199-AAACCTGAGCAGGTCA, SAMN13703199-AAACCTGAGCTTCGCG, SAMN13703199-AAACCTGAGGCTATCT, SAMN13703199-AAACCTGAGGTGCTAG]"
      ]
     },
     "execution_count": 6,
     "metadata": {},
     "output_type": "execute_result"
    }
   ],
   "source": []
  },
  {
   "cell_type": "code",
   "execution_count": null,
   "id": "42f059db",
   "metadata": {},
   "outputs": [],
   "source": [
    "ad.AnnData.write_h5ad(ann_data, \"out/E-CURD-134.h5ad\", compression=\"gzip\")"
   ]
  }
 ],
 "metadata": {
  "kernelspec": {
   "display_name": "Python 3 (ipykernel)",
   "language": "python",
   "name": "python3"
  },
  "language_info": {
   "codemirror_mode": {
    "name": "ipython",
    "version": 3
   },
   "file_extension": ".py",
   "mimetype": "text/x-python",
   "name": "python",
   "nbconvert_exporter": "python",
   "pygments_lexer": "ipython3",
   "version": "3.9.13"
  }
 },
 "nbformat": 4,
 "nbformat_minor": 5
}
